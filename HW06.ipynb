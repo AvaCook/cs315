{
  "nbformat": 4,
  "nbformat_minor": 0,
  "metadata": {
    "colab": {
      "provenance": [],
      "authorship_tag": "ABX9TyOAEX3x2CwfG1vvmT3dsBvz",
      "include_colab_link": true
    },
    "kernelspec": {
      "name": "python3",
      "display_name": "Python 3"
    },
    "language_info": {
      "name": "python"
    }
  },
  "cells": [
    {
      "cell_type": "markdown",
      "metadata": {
        "id": "view-in-github",
        "colab_type": "text"
      },
      "source": [
        "<a href=\"https://colab.research.google.com/github/AvaCook/cs315/blob/main/HW06.ipynb\" target=\"_parent\"><img src=\"https://colab.research.google.com/assets/colab-badge.svg\" alt=\"Open In Colab\"/></a>"
      ]
    },
    {
      "cell_type": "code",
      "execution_count": 36,
      "metadata": {
        "colab": {
          "base_uri": "https://localhost:8080/"
        },
        "id": "SpdCP6TvrpGz",
        "outputId": "a3ed310b-a246-4f03-d49a-7840b074e19b"
      },
      "outputs": [
        {
          "output_type": "stream",
          "name": "stdout",
          "text": [
            "2\n",
            "0.000125885009765625\n",
            "n=  100, order=sorted         , time=0.000052s\n",
            "n=  100, order=reverse-sorted , time=0.000051s\n",
            "n=  100, order=random         , time=0.000028s\n",
            "n= 1000, order=sorted         , time=0.000269s\n",
            "n= 1000, order=reverse-sorted , time=0.000478s\n",
            "n= 1000, order=random         , time=0.000224s\n",
            "n= 5000, order=sorted         , time=0.002877s\n",
            "n= 5000, order=reverse-sorted , time=0.001675s\n",
            "n= 5000, order=random         , time=0.002457s\n",
            "n=10000, order=sorted         , time=0.002582s\n",
            "n=10000, order=reverse-sorted , time=0.002629s\n",
            "n=10000, order=random         , time=0.002661s\n"
          ]
        }
      ],
      "source": [
        "#Ava Cook\n",
        "#Used chatGPT for a more detailed response\n",
        "import random\n",
        "import time\n",
        "def quickselect(A, i):\n",
        "    if len(A) == 1:\n",
        "        return A[0]\n",
        "    pivot = random.choice(A)\n",
        "    lows = [x for x in A if x < pivot]\n",
        "    highs = [x for x in A if x > pivot]\n",
        "    pivots = [x for x in A if x == pivot]\n",
        "    if i <= len(lows):\n",
        "        return quickselect(lows, i)\n",
        "    elif i <= len(lows) + len(pivots):\n",
        "        return pivot\n",
        "    else:\n",
        "        return quickselect(highs, i - len(lows) - len(pivots))\n",
        "\n",
        "# my code\n",
        "data = [1, 4, 6, 3, 8, 2, 7, 0]\n",
        "start = time.time()\n",
        "test = quickselect(data, 3)\n",
        "end = time.time()\n",
        "print(test)\n",
        "print(end - start)\n",
        "\n",
        "#chatGPTs code to make it more efficient\n",
        "for n in [100, 1000, 5000, 10000]:\n",
        "    data_sorted = list(range(n))\n",
        "    data_reverse = list(range(n, 0, -1))\n",
        "    data_random = random.sample(range(n), n)\n",
        "\n",
        "    for data, label in [(data_sorted, \"sorted\"),\n",
        "                        (data_reverse, \"reverse-sorted\"),\n",
        "                        (data_random, \"random\")]:\n",
        "        start = time.time()\n",
        "        result = quickselect(data, n // 2)  # median\n",
        "        end = time.time()\n",
        "        print(f\"n={n:5d}, order={label:15s}, time={end - start:.6f}s\")\n"
      ]
    }
  ]
}