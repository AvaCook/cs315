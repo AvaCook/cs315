{
  "nbformat": 4,
  "nbformat_minor": 0,
  "metadata": {
    "colab": {
      "provenance": [],
      "authorship_tag": "ABX9TyMz8KIjgaxwttAZe2NbLJko",
      "include_colab_link": true
    },
    "kernelspec": {
      "name": "python3",
      "display_name": "Python 3"
    },
    "language_info": {
      "name": "python"
    }
  },
  "cells": [
    {
      "cell_type": "markdown",
      "metadata": {
        "id": "view-in-github",
        "colab_type": "text"
      },
      "source": [
        "<a href=\"https://colab.research.google.com/github/AvaCook/cs315/blob/main/HW4_Question_6.ipynb\" target=\"_parent\"><img src=\"https://colab.research.google.com/assets/colab-badge.svg\" alt=\"Open In Colab\"/></a>"
      ]
    },
    {
      "cell_type": "markdown",
      "source": [
        "### Ava Cook HW 4\n",
        "Used ChatGPT and vairous internet sources (https://sqlpey.com/python/understanding-the-runtime-complexity-of-python-sorted-function/ and Wikipedia and stackoverflow) to help me understand how sorted() and .sort() work."
      ],
      "metadata": {
        "id": "_uicJCL0jnKg"
      }
    },
    {
      "cell_type": "code",
      "source": [
        "\n",
        "import random\n",
        "import time"
      ],
      "metadata": {
        "id": "gCUxs4kYdJUI"
      },
      "execution_count": 7,
      "outputs": []
    },
    {
      "cell_type": "code",
      "execution_count": 8,
      "metadata": {
        "id": "ua03DOpgJzJy"
      },
      "outputs": [],
      "source": [
        "\n",
        "# ---------- Test Harness  ----------\n",
        "def generate_input_list(N, randomize=True):\n",
        "  A = list(range(N))\n",
        "  if randomize:\n",
        "      # Random data\n",
        "      A = [random.randint(1, 1000000) for _ in range(N)]\n",
        "      return A\n",
        "  else:\n",
        "      # Already sorted data\n",
        "      A = list(range(1, N+1))\n",
        "      return A\n",
        "\n",
        "def time_algorithm(func, A):\n",
        "    #Return runtime (seconds) of func(A).\n",
        "    start = time.time()\n",
        "    func(A)\n",
        "    end = time.time()\n",
        "    return end - start\n",
        "\n",
        "# ---------- Built-in Sorting Wrappers ----------\n",
        "def builtin_sorted(A):\n",
        "    return sorted(A)\n",
        "\n",
        "def builtin_sort(A):\n",
        "    B = A.copy()\n",
        "    B.sort()\n",
        "    return B\n"
      ]
    },
    {
      "cell_type": "code",
      "source": [
        "# ---------- Run Timing ----------\n",
        "Ns = [1000, 2000, 4000, 8000, 16000, 32000]\n",
        "\n",
        "print(\"Timing built-in sorted() on random data\")\n",
        "for N in Ns:\n",
        "    A = generate_input_list(N, randomize=True)\n",
        "    t = time_algorithm(builtin_sorted, A)\n",
        "    print(f\"N={N:6d}, time={t:.6f}\")\n",
        "\n",
        "print(\"\\nTiming built-in sorted() on sorted data\")\n",
        "for N in Ns:\n",
        "    A = generate_input_list(N, randomize=False)\n",
        "    t = time_algorithm(builtin_sorted, A)\n",
        "    print(f\"N={N:6d}, time={t:.6f}\")\n",
        "\n",
        "print(\"\\nTiming list.sort() on random data\")\n",
        "for N in Ns:\n",
        "    A = generate_input_list(N, randomize=True)\n",
        "    t = time_algorithm(builtin_sort, A)\n",
        "    print(f\"N={N:6d}, time={t:.6f}\")\n",
        "\n",
        "print(\"\\nTiming list.sort() on sorted data\")\n",
        "for N in Ns:\n",
        "    A = generate_input_list(N, randomize=False)\n",
        "    t = time_algorithm(builtin_sort, A)\n",
        "    print(f\"N={N:6d}, time={t:.6f}\")\n"
      ],
      "metadata": {
        "colab": {
          "base_uri": "https://localhost:8080/"
        },
        "id": "E9yt6pCodUhM",
        "outputId": "f8cd72bc-5ee5-481f-965a-b84fa7e8ec6c"
      },
      "execution_count": 9,
      "outputs": [
        {
          "output_type": "stream",
          "name": "stdout",
          "text": [
            "Timing built-in sorted() on random data\n",
            "N=  1000, time=0.000139\n",
            "N=  2000, time=0.000279\n",
            "N=  4000, time=0.001492\n",
            "N=  8000, time=0.001403\n",
            "N= 16000, time=0.003032\n",
            "N= 32000, time=0.009473\n",
            "\n",
            "Timing built-in sorted() on sorted data\n",
            "N=  1000, time=0.000017\n",
            "N=  2000, time=0.000017\n",
            "N=  4000, time=0.000031\n",
            "N=  8000, time=0.000103\n",
            "N= 16000, time=0.000168\n",
            "N= 32000, time=0.000368\n",
            "\n",
            "Timing list.sort() on random data\n",
            "N=  1000, time=0.000133\n",
            "N=  2000, time=0.000275\n",
            "N=  4000, time=0.000599\n",
            "N=  8000, time=0.001367\n",
            "N= 16000, time=0.002983\n",
            "N= 32000, time=0.006761\n",
            "\n",
            "Timing list.sort() on sorted data\n",
            "N=  1000, time=0.000019\n",
            "N=  2000, time=0.000017\n",
            "N=  4000, time=0.000036\n",
            "N=  8000, time=0.000082\n",
            "N= 16000, time=0.000166\n",
            "N= 32000, time=0.000337\n"
          ]
        }
      ]
    },
    {
      "cell_type": "code",
      "source": [
        "# ---------- Analysis / Comment ----------\n",
        "\"\"\"\n",
        "Analysis of Built-in sorted() and .sort():\n",
        "\n",
        "Both sorted() and list.sort() have almost identical run times on sorted data\n",
        "and almost identical run times on non sorted data.\n",
        "\n",
        "Through reasearch I found that they both use Timsort and are theoretically\n",
        "O(n log n) for average and worst case and O(n) best case when input is already\n",
        "sorted.\n",
        "\n",
        "Results:\n",
        "    - On random input, times grow roughly like n log n.\n",
        "    - On sorted input, growth is close to linear.\n",
        "\n",
        "This means that the buit in functions, sorted and sort, work very will for\n",
        "sorted data.\n",
        "\n",
        "\"\"\""
      ],
      "metadata": {
        "colab": {
          "base_uri": "https://localhost:8080/",
          "height": 104
        },
        "collapsed": true,
        "id": "P4ejoODwdXwU",
        "outputId": "74413830-f551-4120-b486-7078aa45eb26"
      },
      "execution_count": 10,
      "outputs": [
        {
          "output_type": "execute_result",
          "data": {
            "text/plain": [
              "'\\nAnalysis of Built-in sorted() and .sort():\\n\\nBoth sorted() and list.sort() have almost identical run times on sorted data\\nand almost identical run times on non sorted data. \\n\\nThrough reasearch I found that they both use Timsort and are theoretically \\nO(n log n) for average and worst case and O(n) best case when input is already\\nsorted. \\n\\nResults:\\n    - On random input, times grow roughly like n log n.\\n    - On sorted input, growth is close to linear.\\n\\nThis means that the buit in functions, sorted and sort, work very will for\\nsorted data. \\n\\n'"
            ],
            "application/vnd.google.colaboratory.intrinsic+json": {
              "type": "string"
            }
          },
          "metadata": {},
          "execution_count": 10
        }
      ]
    }
  ]
}